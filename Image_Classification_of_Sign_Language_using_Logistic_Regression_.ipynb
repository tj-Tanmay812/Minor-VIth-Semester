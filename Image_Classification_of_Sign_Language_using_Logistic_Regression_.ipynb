{
  "cells": [
    {
      "cell_type": "markdown",
      "metadata": {
        "id": "view-in-github",
        "colab_type": "text"
      },
      "source": [
        "<a href=\"https://colab.research.google.com/github/tj-Tanmay812/Minor-VIth-Semester/blob/main/Image_Classification_of_Sign_Language_using_Logistic_Regression_.ipynb\" target=\"_parent\"><img src=\"https://colab.research.google.com/assets/colab-badge.svg\" alt=\"Open In Colab\"/></a>"
      ]
    },
    {
      "cell_type": "markdown",
      "metadata": {
        "id": "zP5uvfrqdhCS"
      },
      "source": [
        "**Image Classification of Sign Language using Logistic Regression**"
      ]
    },
    {
      "cell_type": "markdown",
      "metadata": {
        "id": "fDEGmbZiBAmI"
      },
      "source": [
        "First we start by installing these libraries\n",
        "*   Numpy and Pandas — for data handling and processing\n",
        "\n",
        "*   PyTorch and Torchvision — for machine learning functions\n",
        "\n",
        "*   Matplotlib — for data visualization\n",
        "\n",
        "*   Jovian — for saving the code in the jovian.ml platform"
      ]
    },
    {
      "cell_type": "code",
      "execution_count": null,
      "metadata": {
        "id": "5W4MF8go5ChU"
      },
      "outputs": [],
      "source": [
        "# Uncomment and run the commands below if imports fail\n",
        "#!conda install numpy pytorch torchvision cpuonly -c pytorch -y\n",
        "#!pip install matplotlib --upgrade --quiet\n",
        "!pip install jovian --upgrade --quiet"
      ]
    },
    {
      "cell_type": "markdown",
      "metadata": {
        "id": "m4UO2iw8DAtu"
      },
      "source": [
        "Now importing the above libraries"
      ]
    },
    {
      "cell_type": "code",
      "execution_count": null,
      "metadata": {
        "id": "GUD9WPUF5MW9"
      },
      "outputs": [],
      "source": [
        "# Imports\n",
        "import torch\n",
        "import jovian\n",
        "import torchvision\n",
        "import string\n",
        "import torch.nn as nn\n",
        "import matplotlib.pyplot as plt\n",
        "import torch.nn.functional as F\n",
        "import pandas as pd\n",
        "import numpy as np\n",
        "from torch.utils.data import random_split\n",
        "from torch.utils.data import DataLoader\n",
        "from torch.utils.data import TensorDataset"
      ]
    },
    {
      "cell_type": "markdown",
      "metadata": {
        "id": "y-z6_1ipDs8r"
      },
      "source": [
        "**Pre-processing the data**"
      ]
    },
    {
      "cell_type": "code",
      "execution_count": null,
      "metadata": {
        "id": "8c__e3tO5l5S"
      },
      "outputs": [],
      "source": [
        "# Hyperparameters\n",
        "batch_size = 256\n",
        "learning_rate = 1e-5\n",
        "\n",
        "# Other constants\n",
        "input_size = 28*28\n",
        "num_classes = 26"
      ]
    },
    {
      "cell_type": "markdown",
      "metadata": {
        "id": "CoyIwq_mEaBn"
      },
      "source": [
        "Now loading the training and testing dataset."
      ]
    },
    {
      "cell_type": "code",
      "execution_count": null,
      "metadata": {
        "id": "k-Lg-37z5xmx"
      },
      "outputs": [],
      "source": [
        "import os\n",
        "# os.chdir('/kaggle/input/sign-language-mnist/')\n",
        "dataset = pd.read_csv('/content/drive/MyDrive/Colab Notebooks/Copy of sign_mnist_train.csv')\n",
        "testdataset = pd.read_csv('/content/drive/MyDrive/Colab Notebooks/Copy of sign_mnist_test.csv')\n",
        "num_rows = dataset.shape[0]\n",
        "# To map each label number to its corresponding letter\n",
        "letters = dict(enumerate(string.ascii_uppercase))"
      ]
    },
    {
      "cell_type": "code",
      "source": [
        "dataset"
      ],
      "metadata": {
        "colab": {
          "base_uri": "https://localhost:8080/",
          "height": 487
        },
        "id": "AQ5GaSx-_zxf",
        "outputId": "24dca46a-1446-4d24-c7cc-e07243b2cfd3"
      },
      "execution_count": null,
      "outputs": [
        {
          "output_type": "execute_result",
          "data": {
            "text/plain": [
              "       label  pixel1  pixel2  pixel3  pixel4  pixel5  pixel6  pixel7  pixel8  \\\n",
              "0          3     107     118     127     134     139     143     146     150   \n",
              "1          6     155     157     156     156     156     157     156     158   \n",
              "2          2     187     188     188     187     187     186     187     188   \n",
              "3          2     211     211     212     212     211     210     211     210   \n",
              "4         13     164     167     170     172     176     179     180     184   \n",
              "...      ...     ...     ...     ...     ...     ...     ...     ...     ...   \n",
              "27450     13     189     189     190     190     192     193     193     193   \n",
              "27451     23     151     154     157     158     160     161     163     164   \n",
              "27452     18     174     174     174     174     174     175     175     174   \n",
              "27453     17     177     181     184     185     187     189     190     191   \n",
              "27454     23     179     180     180     180     182     181     182     183   \n",
              "\n",
              "       pixel9  ...  pixel775  pixel776  pixel777  pixel778  pixel779  \\\n",
              "0         153  ...       207       207       207       207       206   \n",
              "1         158  ...        69       149       128        87        94   \n",
              "2         187  ...       202       201       200       199       198   \n",
              "3         210  ...       235       234       233       231       230   \n",
              "4         185  ...        92       105       105       108       133   \n",
              "...       ...  ...       ...       ...       ...       ...       ...   \n",
              "27450     193  ...       132       165        99        77        52   \n",
              "27451     166  ...       198       198       198       198       198   \n",
              "27452     173  ...       121       196       209       208       206   \n",
              "27453     191  ...       119        56        27        58       102   \n",
              "27454     182  ...       108       132       170       194       214   \n",
              "\n",
              "       pixel780  pixel781  pixel782  pixel783  pixel784  \n",
              "0           206       206       204       203       202  \n",
              "1           163       175       103       135       149  \n",
              "2           199       198       195       194       195  \n",
              "3           226       225       222       229       163  \n",
              "4           163       157       163       164       179  \n",
              "...         ...       ...       ...       ...       ...  \n",
              "27450       200       234       200       222       225  \n",
              "27451       196       195       195       195       194  \n",
              "27452       204       203       202       200       200  \n",
              "27453        79        47        64        87        93  \n",
              "27454       203       197       205       209       215  \n",
              "\n",
              "[27455 rows x 785 columns]"
            ],
            "text/html": [
              "\n",
              "  <div id=\"df-0985c661-2a41-4df8-8dbb-2984682e93ab\">\n",
              "    <div class=\"colab-df-container\">\n",
              "      <div>\n",
              "<style scoped>\n",
              "    .dataframe tbody tr th:only-of-type {\n",
              "        vertical-align: middle;\n",
              "    }\n",
              "\n",
              "    .dataframe tbody tr th {\n",
              "        vertical-align: top;\n",
              "    }\n",
              "\n",
              "    .dataframe thead th {\n",
              "        text-align: right;\n",
              "    }\n",
              "</style>\n",
              "<table border=\"1\" class=\"dataframe\">\n",
              "  <thead>\n",
              "    <tr style=\"text-align: right;\">\n",
              "      <th></th>\n",
              "      <th>label</th>\n",
              "      <th>pixel1</th>\n",
              "      <th>pixel2</th>\n",
              "      <th>pixel3</th>\n",
              "      <th>pixel4</th>\n",
              "      <th>pixel5</th>\n",
              "      <th>pixel6</th>\n",
              "      <th>pixel7</th>\n",
              "      <th>pixel8</th>\n",
              "      <th>pixel9</th>\n",
              "      <th>...</th>\n",
              "      <th>pixel775</th>\n",
              "      <th>pixel776</th>\n",
              "      <th>pixel777</th>\n",
              "      <th>pixel778</th>\n",
              "      <th>pixel779</th>\n",
              "      <th>pixel780</th>\n",
              "      <th>pixel781</th>\n",
              "      <th>pixel782</th>\n",
              "      <th>pixel783</th>\n",
              "      <th>pixel784</th>\n",
              "    </tr>\n",
              "  </thead>\n",
              "  <tbody>\n",
              "    <tr>\n",
              "      <th>0</th>\n",
              "      <td>3</td>\n",
              "      <td>107</td>\n",
              "      <td>118</td>\n",
              "      <td>127</td>\n",
              "      <td>134</td>\n",
              "      <td>139</td>\n",
              "      <td>143</td>\n",
              "      <td>146</td>\n",
              "      <td>150</td>\n",
              "      <td>153</td>\n",
              "      <td>...</td>\n",
              "      <td>207</td>\n",
              "      <td>207</td>\n",
              "      <td>207</td>\n",
              "      <td>207</td>\n",
              "      <td>206</td>\n",
              "      <td>206</td>\n",
              "      <td>206</td>\n",
              "      <td>204</td>\n",
              "      <td>203</td>\n",
              "      <td>202</td>\n",
              "    </tr>\n",
              "    <tr>\n",
              "      <th>1</th>\n",
              "      <td>6</td>\n",
              "      <td>155</td>\n",
              "      <td>157</td>\n",
              "      <td>156</td>\n",
              "      <td>156</td>\n",
              "      <td>156</td>\n",
              "      <td>157</td>\n",
              "      <td>156</td>\n",
              "      <td>158</td>\n",
              "      <td>158</td>\n",
              "      <td>...</td>\n",
              "      <td>69</td>\n",
              "      <td>149</td>\n",
              "      <td>128</td>\n",
              "      <td>87</td>\n",
              "      <td>94</td>\n",
              "      <td>163</td>\n",
              "      <td>175</td>\n",
              "      <td>103</td>\n",
              "      <td>135</td>\n",
              "      <td>149</td>\n",
              "    </tr>\n",
              "    <tr>\n",
              "      <th>2</th>\n",
              "      <td>2</td>\n",
              "      <td>187</td>\n",
              "      <td>188</td>\n",
              "      <td>188</td>\n",
              "      <td>187</td>\n",
              "      <td>187</td>\n",
              "      <td>186</td>\n",
              "      <td>187</td>\n",
              "      <td>188</td>\n",
              "      <td>187</td>\n",
              "      <td>...</td>\n",
              "      <td>202</td>\n",
              "      <td>201</td>\n",
              "      <td>200</td>\n",
              "      <td>199</td>\n",
              "      <td>198</td>\n",
              "      <td>199</td>\n",
              "      <td>198</td>\n",
              "      <td>195</td>\n",
              "      <td>194</td>\n",
              "      <td>195</td>\n",
              "    </tr>\n",
              "    <tr>\n",
              "      <th>3</th>\n",
              "      <td>2</td>\n",
              "      <td>211</td>\n",
              "      <td>211</td>\n",
              "      <td>212</td>\n",
              "      <td>212</td>\n",
              "      <td>211</td>\n",
              "      <td>210</td>\n",
              "      <td>211</td>\n",
              "      <td>210</td>\n",
              "      <td>210</td>\n",
              "      <td>...</td>\n",
              "      <td>235</td>\n",
              "      <td>234</td>\n",
              "      <td>233</td>\n",
              "      <td>231</td>\n",
              "      <td>230</td>\n",
              "      <td>226</td>\n",
              "      <td>225</td>\n",
              "      <td>222</td>\n",
              "      <td>229</td>\n",
              "      <td>163</td>\n",
              "    </tr>\n",
              "    <tr>\n",
              "      <th>4</th>\n",
              "      <td>13</td>\n",
              "      <td>164</td>\n",
              "      <td>167</td>\n",
              "      <td>170</td>\n",
              "      <td>172</td>\n",
              "      <td>176</td>\n",
              "      <td>179</td>\n",
              "      <td>180</td>\n",
              "      <td>184</td>\n",
              "      <td>185</td>\n",
              "      <td>...</td>\n",
              "      <td>92</td>\n",
              "      <td>105</td>\n",
              "      <td>105</td>\n",
              "      <td>108</td>\n",
              "      <td>133</td>\n",
              "      <td>163</td>\n",
              "      <td>157</td>\n",
              "      <td>163</td>\n",
              "      <td>164</td>\n",
              "      <td>179</td>\n",
              "    </tr>\n",
              "    <tr>\n",
              "      <th>...</th>\n",
              "      <td>...</td>\n",
              "      <td>...</td>\n",
              "      <td>...</td>\n",
              "      <td>...</td>\n",
              "      <td>...</td>\n",
              "      <td>...</td>\n",
              "      <td>...</td>\n",
              "      <td>...</td>\n",
              "      <td>...</td>\n",
              "      <td>...</td>\n",
              "      <td>...</td>\n",
              "      <td>...</td>\n",
              "      <td>...</td>\n",
              "      <td>...</td>\n",
              "      <td>...</td>\n",
              "      <td>...</td>\n",
              "      <td>...</td>\n",
              "      <td>...</td>\n",
              "      <td>...</td>\n",
              "      <td>...</td>\n",
              "      <td>...</td>\n",
              "    </tr>\n",
              "    <tr>\n",
              "      <th>27450</th>\n",
              "      <td>13</td>\n",
              "      <td>189</td>\n",
              "      <td>189</td>\n",
              "      <td>190</td>\n",
              "      <td>190</td>\n",
              "      <td>192</td>\n",
              "      <td>193</td>\n",
              "      <td>193</td>\n",
              "      <td>193</td>\n",
              "      <td>193</td>\n",
              "      <td>...</td>\n",
              "      <td>132</td>\n",
              "      <td>165</td>\n",
              "      <td>99</td>\n",
              "      <td>77</td>\n",
              "      <td>52</td>\n",
              "      <td>200</td>\n",
              "      <td>234</td>\n",
              "      <td>200</td>\n",
              "      <td>222</td>\n",
              "      <td>225</td>\n",
              "    </tr>\n",
              "    <tr>\n",
              "      <th>27451</th>\n",
              "      <td>23</td>\n",
              "      <td>151</td>\n",
              "      <td>154</td>\n",
              "      <td>157</td>\n",
              "      <td>158</td>\n",
              "      <td>160</td>\n",
              "      <td>161</td>\n",
              "      <td>163</td>\n",
              "      <td>164</td>\n",
              "      <td>166</td>\n",
              "      <td>...</td>\n",
              "      <td>198</td>\n",
              "      <td>198</td>\n",
              "      <td>198</td>\n",
              "      <td>198</td>\n",
              "      <td>198</td>\n",
              "      <td>196</td>\n",
              "      <td>195</td>\n",
              "      <td>195</td>\n",
              "      <td>195</td>\n",
              "      <td>194</td>\n",
              "    </tr>\n",
              "    <tr>\n",
              "      <th>27452</th>\n",
              "      <td>18</td>\n",
              "      <td>174</td>\n",
              "      <td>174</td>\n",
              "      <td>174</td>\n",
              "      <td>174</td>\n",
              "      <td>174</td>\n",
              "      <td>175</td>\n",
              "      <td>175</td>\n",
              "      <td>174</td>\n",
              "      <td>173</td>\n",
              "      <td>...</td>\n",
              "      <td>121</td>\n",
              "      <td>196</td>\n",
              "      <td>209</td>\n",
              "      <td>208</td>\n",
              "      <td>206</td>\n",
              "      <td>204</td>\n",
              "      <td>203</td>\n",
              "      <td>202</td>\n",
              "      <td>200</td>\n",
              "      <td>200</td>\n",
              "    </tr>\n",
              "    <tr>\n",
              "      <th>27453</th>\n",
              "      <td>17</td>\n",
              "      <td>177</td>\n",
              "      <td>181</td>\n",
              "      <td>184</td>\n",
              "      <td>185</td>\n",
              "      <td>187</td>\n",
              "      <td>189</td>\n",
              "      <td>190</td>\n",
              "      <td>191</td>\n",
              "      <td>191</td>\n",
              "      <td>...</td>\n",
              "      <td>119</td>\n",
              "      <td>56</td>\n",
              "      <td>27</td>\n",
              "      <td>58</td>\n",
              "      <td>102</td>\n",
              "      <td>79</td>\n",
              "      <td>47</td>\n",
              "      <td>64</td>\n",
              "      <td>87</td>\n",
              "      <td>93</td>\n",
              "    </tr>\n",
              "    <tr>\n",
              "      <th>27454</th>\n",
              "      <td>23</td>\n",
              "      <td>179</td>\n",
              "      <td>180</td>\n",
              "      <td>180</td>\n",
              "      <td>180</td>\n",
              "      <td>182</td>\n",
              "      <td>181</td>\n",
              "      <td>182</td>\n",
              "      <td>183</td>\n",
              "      <td>182</td>\n",
              "      <td>...</td>\n",
              "      <td>108</td>\n",
              "      <td>132</td>\n",
              "      <td>170</td>\n",
              "      <td>194</td>\n",
              "      <td>214</td>\n",
              "      <td>203</td>\n",
              "      <td>197</td>\n",
              "      <td>205</td>\n",
              "      <td>209</td>\n",
              "      <td>215</td>\n",
              "    </tr>\n",
              "  </tbody>\n",
              "</table>\n",
              "<p>27455 rows × 785 columns</p>\n",
              "</div>\n",
              "      <button class=\"colab-df-convert\" onclick=\"convertToInteractive('df-0985c661-2a41-4df8-8dbb-2984682e93ab')\"\n",
              "              title=\"Convert this dataframe to an interactive table.\"\n",
              "              style=\"display:none;\">\n",
              "        \n",
              "  <svg xmlns=\"http://www.w3.org/2000/svg\" height=\"24px\"viewBox=\"0 0 24 24\"\n",
              "       width=\"24px\">\n",
              "    <path d=\"M0 0h24v24H0V0z\" fill=\"none\"/>\n",
              "    <path d=\"M18.56 5.44l.94 2.06.94-2.06 2.06-.94-2.06-.94-.94-2.06-.94 2.06-2.06.94zm-11 1L8.5 8.5l.94-2.06 2.06-.94-2.06-.94L8.5 2.5l-.94 2.06-2.06.94zm10 10l.94 2.06.94-2.06 2.06-.94-2.06-.94-.94-2.06-.94 2.06-2.06.94z\"/><path d=\"M17.41 7.96l-1.37-1.37c-.4-.4-.92-.59-1.43-.59-.52 0-1.04.2-1.43.59L10.3 9.45l-7.72 7.72c-.78.78-.78 2.05 0 2.83L4 21.41c.39.39.9.59 1.41.59.51 0 1.02-.2 1.41-.59l7.78-7.78 2.81-2.81c.8-.78.8-2.07 0-2.86zM5.41 20L4 18.59l7.72-7.72 1.47 1.35L5.41 20z\"/>\n",
              "  </svg>\n",
              "      </button>\n",
              "      \n",
              "  <style>\n",
              "    .colab-df-container {\n",
              "      display:flex;\n",
              "      flex-wrap:wrap;\n",
              "      gap: 12px;\n",
              "    }\n",
              "\n",
              "    .colab-df-convert {\n",
              "      background-color: #E8F0FE;\n",
              "      border: none;\n",
              "      border-radius: 50%;\n",
              "      cursor: pointer;\n",
              "      display: none;\n",
              "      fill: #1967D2;\n",
              "      height: 32px;\n",
              "      padding: 0 0 0 0;\n",
              "      width: 32px;\n",
              "    }\n",
              "\n",
              "    .colab-df-convert:hover {\n",
              "      background-color: #E2EBFA;\n",
              "      box-shadow: 0px 1px 2px rgba(60, 64, 67, 0.3), 0px 1px 3px 1px rgba(60, 64, 67, 0.15);\n",
              "      fill: #174EA6;\n",
              "    }\n",
              "\n",
              "    [theme=dark] .colab-df-convert {\n",
              "      background-color: #3B4455;\n",
              "      fill: #D2E3FC;\n",
              "    }\n",
              "\n",
              "    [theme=dark] .colab-df-convert:hover {\n",
              "      background-color: #434B5C;\n",
              "      box-shadow: 0px 1px 3px 1px rgba(0, 0, 0, 0.15);\n",
              "      filter: drop-shadow(0px 1px 2px rgba(0, 0, 0, 0.3));\n",
              "      fill: #FFFFFF;\n",
              "    }\n",
              "  </style>\n",
              "\n",
              "      <script>\n",
              "        const buttonEl =\n",
              "          document.querySelector('#df-0985c661-2a41-4df8-8dbb-2984682e93ab button.colab-df-convert');\n",
              "        buttonEl.style.display =\n",
              "          google.colab.kernel.accessAllowed ? 'block' : 'none';\n",
              "\n",
              "        async function convertToInteractive(key) {\n",
              "          const element = document.querySelector('#df-0985c661-2a41-4df8-8dbb-2984682e93ab');\n",
              "          const dataTable =\n",
              "            await google.colab.kernel.invokeFunction('convertToInteractive',\n",
              "                                                     [key], {});\n",
              "          if (!dataTable) return;\n",
              "\n",
              "          const docLinkHtml = 'Like what you see? Visit the ' +\n",
              "            '<a target=\"_blank\" href=https://colab.research.google.com/notebooks/data_table.ipynb>data table notebook</a>'\n",
              "            + ' to learn more about interactive tables.';\n",
              "          element.innerHTML = '';\n",
              "          dataTable['output_type'] = 'display_data';\n",
              "          await google.colab.output.renderOutput(dataTable, element);\n",
              "          const docLink = document.createElement('div');\n",
              "          docLink.innerHTML = docLinkHtml;\n",
              "          element.appendChild(docLink);\n",
              "        }\n",
              "      </script>\n",
              "    </div>\n",
              "  </div>\n",
              "  "
            ]
          },
          "metadata": {},
          "execution_count": 22
        }
      ]
    },
    {
      "cell_type": "markdown",
      "metadata": {
        "id": "KVn5J7BBFW0m"
      },
      "source": [
        "**Exploring the data.**"
      ]
    },
    {
      "cell_type": "markdown",
      "metadata": {
        "id": "qPjz05FKHM_h"
      },
      "source": [
        "Constructing a function to split the training and testing dataset to separate the labels from the pixel values"
      ]
    },
    {
      "cell_type": "code",
      "execution_count": null,
      "metadata": {
        "id": "c349_gIp5xxL"
      },
      "outputs": [],
      "source": [
        "def dataframe_to_array(dataframe):\n",
        "    # Make a copy of the original dataframe\n",
        "    dataframe1 = dataframe.copy(deep=True)\n",
        "    # Extract input & outupts as numpy arrays\n",
        "    inputs_array = dataframe1.iloc[:, 1:].to_numpy()\n",
        "    targets_array = dataframe1['label'].to_numpy()\n",
        "    return inputs_array, targets_array"
      ]
    },
    {
      "cell_type": "code",
      "execution_count": null,
      "metadata": {
        "id": "vQ5_9Ywh8B7k"
      },
      "outputs": [],
      "source": [
        "inputs_array, targets_array = dataframe_to_array(dataset)\n",
        "testinputs_array, testtargets_array = dataframe_to_array(testdataset)"
      ]
    },
    {
      "cell_type": "markdown",
      "metadata": {
        "id": "4iu7VcSSI1WA"
      },
      "source": [
        "Rshaping the array to (28x28) since the initial shape is just a row array."
      ]
    },
    {
      "cell_type": "code",
      "execution_count": null,
      "metadata": {
        "id": "apbEsJG08H31",
        "colab": {
          "base_uri": "https://localhost:8080/",
          "height": 447
        },
        "outputId": "4f3765f7-5e8d-4ca4-ecdc-47910d53c015"
      },
      "outputs": [
        {
          "output_type": "stream",
          "name": "stdout",
          "text": [
            "Letter:  D\n"
          ]
        },
        {
          "output_type": "display_data",
          "data": {
            "text/plain": [
              "<Figure size 640x480 with 1 Axes>"
            ],
            "image/png": "[encoded data removed]"
          },
          "metadata": {}
        }
      ],
      "source": [
        "pic1 = np.reshape(inputs_array[0], (28, 28))\n",
        "plt.imshow(pic1, cmap = \"gray\")\n",
        "print(\"Letter: \", letters[targets_array[0].item()])"
      ]
    },
    {
      "cell_type": "markdown",
      "metadata": {
        "id": "19bl5NK9KIZ4"
      },
      "source": [
        "As expected, the letter in the hand image is D. However, it is evident that the image is not clear due to its small resolution."
      ]
    },
    {
      "cell_type": "markdown",
      "metadata": {
        "id": "Gczs5s9AKbpi"
      },
      "source": [
        "Converting the training and testing input arrays to continuous float values since it allows our model for a more precise learning as compared to discrete values. "
      ]
    },
    {
      "cell_type": "markdown",
      "metadata": {
        "id": "AhXpPm8nK0RH"
      },
      "source": [
        "On the other hand converting the training and testing labels to long integers since the output of the model are indices to be used in accessing probability values."
      ]
    },
    {
      "cell_type": "code",
      "execution_count": null,
      "metadata": {
        "id": "_RGNYEwl8IJN"
      },
      "outputs": [],
      "source": [
        "inputs = torch.from_numpy(inputs_array).float()\n",
        "targets = torch.from_numpy(targets_array).long()\n",
        "testinputs = torch.from_numpy(testinputs_array).float()\n",
        "testtargets = torch.from_numpy(testtargets_array).long()"
      ]
    },
    {
      "cell_type": "markdown",
      "metadata": {
        "id": "nodTB4NfLOaB"
      },
      "source": [
        "**Dataset and Data Loaders**"
      ]
    },
    {
      "cell_type": "markdown",
      "metadata": {
        "id": "BrK_9LRQL8G6"
      },
      "source": [
        "In this part the input arrays and label arrays are wrapped in a single object for both the training and testing datasets.The training dataset will also be split to a training and validation subset. In this case, 15% of the original training dataset will be placed in the validation subset."
      ]
    },
    {
      "cell_type": "markdown",
      "metadata": {
        "id": "n_fhMrt0NojX"
      },
      "source": [
        "The data loaded for the training dataset are also shuffled since there might be a chance that the elements in a batch are homogenous (i.e. all are from one category) which might lead to an inaccurate model."
      ]
    },
    {
      "cell_type": "code",
      "execution_count": null,
      "metadata": {
        "id": "1sMnJ8BU8IUI"
      },
      "outputs": [],
      "source": [
        "# Training validation & test dataset\n",
        "dataset = TensorDataset(inputs, targets)\n",
        "testdataset = TensorDataset(testinputs, testtargets)\n",
        "\n",
        "# Let's use 15% of our training dataset to validate our model\n",
        "val_percent = 0.15\n",
        "val_size = int(num_rows * val_percent)\n",
        "train_size = num_rows - val_size\n",
        "train_ds, val_ds = random_split(dataset, [train_size, val_size])\n",
        "\n",
        "# Dataloaders\n",
        "train_loader = DataLoader(train_ds, batch_size, shuffle=True)\n",
        "val_loader = DataLoader(val_ds, batch_size*2)\n",
        "test_loader = DataLoader(testdataset, batch_size*2)"
      ]
    },
    {
      "cell_type": "markdown",
      "metadata": {
        "id": "Th96dFRPM5va"
      },
      "source": [
        "Looking at the first entry of the training dataset."
      ]
    },
    {
      "cell_type": "code",
      "execution_count": null,
      "metadata": {
        "id": "zb9MPwpr8PAu",
        "colab": {
          "base_uri": "https://localhost:8080/",
          "height": 447
        },
        "outputId": "e87025fb-c491-4787-c666-f1c0476f823c"
      },
      "outputs": [
        {
          "output_type": "stream",
          "name": "stdout",
          "text": [
            "Letter:  R\n"
          ]
        },
        {
          "output_type": "display_data",
          "data": {
            "text/plain": [
              "<Figure size 640x480 with 1 Axes>"
            ],
            "image/png": "[encoded data removed]"
          },
          "metadata": {}
        }
      ],
      "source": [
        "img, label = train_ds[0]\n",
        "plt.imshow(img.reshape((28,28)), cmap = 'gray')\n",
        "print(\"Letter: \", letters[label.item()])"
      ]
    },
    {
      "cell_type": "markdown",
      "metadata": {
        "id": "lwgypTNANy3f"
      },
      "source": [
        "Since this image is different from the image we saw earlier, there is an assurance that the datasets are randomly split and shuffled."
      ]
    },
    {
      "cell_type": "markdown",
      "metadata": {
        "id": "tSFR_XmmOU4h"
      },
      "source": [
        "**Constructing the Model**"
      ]
    },
    {
      "cell_type": "markdown",
      "metadata": {
        "id": "Ap4E_1PwOZp9"
      },
      "source": [
        "The function returns a tensor with 26 elements with values ranging from negative infinity to positive infinity. Well, technically not infinite since the values are limited by the number of bits allocated in the memory. As such, the values must be normalized between 0 and 1.0 inclusive.\n",
        "Here, I used PyTorch’s cross_entropy function that combines the negative log likelihood and softmax function to normalize the resulting values from the linear function."
      ]
    },
    {
      "cell_type": "markdown",
      "metadata": {
        "id": "3mcto4bWOnON"
      },
      "source": [
        "The code for constructing the image classification model is this."
      ]
    },
    {
      "cell_type": "code",
      "execution_count": null,
      "metadata": {
        "id": "rxZnkhjJ8PTC"
      },
      "outputs": [],
      "source": [
        "class MnistModel(nn.Module):\n",
        "    def __init__(self):\n",
        "        super().__init__()\n",
        "        self.linear = nn.Linear(input_size, num_classes)\n",
        "        \n",
        "    def forward(self, xb):\n",
        "        xb = xb.reshape(-1, 784)\n",
        "        out = self.linear(xb)\n",
        "        return out\n",
        "    \n",
        "    def training_step(self, batch):\n",
        "        images, labels = batch \n",
        "        out = self(images)                  # Generate predictions\n",
        "        loss = F.cross_entropy(out, labels) # Calculate loss\n",
        "        return loss\n",
        "    \n",
        "    def validation_step(self, batch):\n",
        "        images, labels = batch \n",
        "        out = self(images)                    # Generate predictions\n",
        "        loss = F.cross_entropy(out, labels)   # Calculate loss\n",
        "        acc = accuracy(out, labels)           # Calculate accuracy\n",
        "        return {'val_loss': loss.detach(), 'val_acc': acc.detach()}\n",
        "        \n",
        "    def validation_epoch_end(self, outputs):\n",
        "        batch_losses = [x['val_loss'] for x in outputs]\n",
        "        epoch_loss = torch.stack(batch_losses).mean()   # Combine losses\n",
        "        batch_accs = [x['val_acc'] for x in outputs]\n",
        "        epoch_acc = torch.stack(batch_accs).mean()      # Combine accuracies\n",
        "        return {'val_loss': epoch_loss.item(), 'val_acc': epoch_acc.item()}\n",
        "    \n",
        "    def epoch_end(self, epoch, result):\n",
        "        print(\"Epoch [{}], val_loss: {:.4f}, val_acc: {:.4f}\".format(epoch, result['val_loss'], result['val_acc']))\n",
        "    \n",
        "model = MnistModel()"
      ]
    },
    {
      "cell_type": "markdown",
      "metadata": {
        "id": "ZPoO1yFEPFP3"
      },
      "source": [
        "Upon instantiating the class, random weight values and bias values are created. Hence the need for the training_step and validation_step methods. On the other hand, the validation_epoch_end and epoch_end methods are there to present the current performance to model."
      ]
    },
    {
      "cell_type": "markdown",
      "metadata": {
        "id": "FxkmUDtMPKM-"
      },
      "source": [
        "**Training the Model**"
      ]
    },
    {
      "cell_type": "markdown",
      "metadata": {
        "id": "ZYElKCw_PRDz"
      },
      "source": [
        "Here we will define the accuracy of the model by dividing the amount of times the model correctly predicts the image by the total number of input images."
      ]
    },
    {
      "cell_type": "code",
      "execution_count": null,
      "metadata": {
        "id": "yVd8WTia8Pg1"
      },
      "outputs": [],
      "source": [
        "def accuracy(outputs, labels):\n",
        "    _, preds = torch.max(outputs, dim=1)\n",
        "    return torch.tensor(torch.sum(preds == labels).item() / len(preds))"
      ]
    },
    {
      "cell_type": "markdown",
      "metadata": {
        "id": "9e-QVvCMPhH_"
      },
      "source": [
        "Using Stochastic Gradient Descent to determine how well the model is improving."
      ]
    },
    {
      "cell_type": "markdown",
      "metadata": {
        "id": "jK_C8IMxR3Fm"
      },
      "source": [
        "Linear regression works by fitting a curve that represents the relationship between the data points.We aim to improve the model by gradually reaching the local minima of the loss function to minimize the losses.The rate of adjustment from the initial parameters to the new parameters is dictated by the learning rate. Earlier, the learning rate was defined to be 1e-5."
      ]
    },
    {
      "cell_type": "markdown",
      "metadata": {
        "id": "DGYjiMS3SF4l"
      },
      "source": [
        "The rate of adjustment from the initial parameters to the new parameters is dictated by the learning rate. Earlier, the learning rate was defined to be 1e-5."
      ]
    },
    {
      "cell_type": "code",
      "execution_count": null,
      "metadata": {
        "id": "A-HCii228PsS"
      },
      "outputs": [],
      "source": [
        "def evaluate(model, val_loader):\n",
        "    outputs = [model.validation_step(batch) for batch in val_loader]\n",
        "    return model.validation_epoch_end(outputs)\n",
        "\n",
        "def fit(epochs, lr, model, train_loader, val_loader, opt_func=torch.optim.SGD):\n",
        "    history = []\n",
        "    optimizer = opt_func(model.parameters(), lr)\n",
        "    for epoch in range(epochs):\n",
        "        # Training Phase \n",
        "        for batch in train_loader:\n",
        "            loss = model.training_step(batch)\n",
        "            loss.backward()\n",
        "            optimizer.step()\n",
        "            optimizer.zero_grad()\n",
        "        # Validation phase\n",
        "        result = evaluate(model, val_loader)\n",
        "        model.epoch_end(epoch, result)\n",
        "        history.append(result)\n",
        "    return history"
      ]
    },
    {
      "cell_type": "markdown",
      "metadata": {
        "id": "tAX9rxGlSW7q"
      },
      "source": [
        "**Let’s evaluate our model.**\n"
      ]
    },
    {
      "cell_type": "code",
      "execution_count": null,
      "metadata": {
        "id": "0BqkWJUj9P-O",
        "colab": {
          "base_uri": "https://localhost:8080/"
        },
        "outputId": "ba81392f-685e-48af-9a9d-5038abbe6294"
      },
      "outputs": [
        {
          "output_type": "execute_result",
          "data": {
            "text/plain": [
              "{'val_loss': 253.96142578125, 'val_acc': 0.05356297269463539}"
            ]
          },
          "metadata": {},
          "execution_count": 32
        }
      ],
      "source": [
        "evaluate(model, val_loader)"
      ]
    },
    {
      "cell_type": "markdown",
      "metadata": {
        "id": "R27RUbjASliP"
      },
      "source": [
        "Since the model parameters are random upon instantiation, it is expected that the accuracy is very low and the validation loss is high. "
      ]
    },
    {
      "cell_type": "markdown",
      "metadata": {
        "id": "zzZPMs4bSq9y"
      },
      "source": [
        "The next step is training the model for 50 epoch or 50 iterations with a learning rate of 1e-4."
      ]
    },
    {
      "cell_type": "code",
      "execution_count": null,
      "metadata": {
        "id": "1jgPsuBi_EWH",
        "colab": {
          "base_uri": "https://localhost:8080/"
        },
        "outputId": "c40a5036-e153-45aa-c9ec-fe778a6ac47b"
      },
      "outputs": [
        {
          "output_type": "stream",
          "name": "stdout",
          "text": [
            "Epoch [0], val_loss: 0.8785, val_acc: 0.9553\n",
            "Epoch [1], val_loss: 4.5747, val_acc: 0.8177\n",
            "Epoch [2], val_loss: 9.1781, val_acc: 0.7512\n",
            "Epoch [3], val_loss: 0.9162, val_acc: 0.9494\n",
            "Epoch [4], val_loss: 0.7652, val_acc: 0.9442\n",
            "Epoch [5], val_loss: 4.7791, val_acc: 0.8673\n",
            "Epoch [6], val_loss: 5.0078, val_acc: 0.8759\n",
            "Epoch [7], val_loss: 0.0631, val_acc: 0.9868\n",
            "Epoch [8], val_loss: 0.0697, val_acc: 0.9891\n",
            "Epoch [9], val_loss: 0.0687, val_acc: 0.9876\n",
            "Epoch [10], val_loss: 2.9557, val_acc: 0.8768\n",
            "Epoch [11], val_loss: 0.0420, val_acc: 0.9911\n",
            "Epoch [12], val_loss: 0.0405, val_acc: 0.9911\n",
            "Epoch [13], val_loss: 0.0248, val_acc: 0.9946\n",
            "Epoch [14], val_loss: 1.1685, val_acc: 0.9226\n",
            "Epoch [15], val_loss: 0.0192, val_acc: 0.9961\n",
            "Epoch [16], val_loss: 0.0277, val_acc: 0.9931\n",
            "Epoch [17], val_loss: 0.7459, val_acc: 0.9551\n",
            "Epoch [18], val_loss: 0.0151, val_acc: 0.9961\n",
            "Epoch [19], val_loss: 0.0258, val_acc: 0.9937\n",
            "Epoch [20], val_loss: 0.0120, val_acc: 0.9970\n",
            "Epoch [21], val_loss: 2.5576, val_acc: 0.9081\n",
            "Epoch [22], val_loss: 0.0250, val_acc: 0.9959\n",
            "Epoch [23], val_loss: 0.0166, val_acc: 0.9950\n",
            "Epoch [24], val_loss: 0.0170, val_acc: 0.9961\n",
            "Epoch [25], val_loss: 1.4874, val_acc: 0.9157\n",
            "Epoch [26], val_loss: 0.0096, val_acc: 0.9976\n",
            "Epoch [27], val_loss: 0.0082, val_acc: 0.9976\n",
            "Epoch [28], val_loss: 0.0099, val_acc: 0.9983\n",
            "Epoch [29], val_loss: 0.0093, val_acc: 0.9980\n",
            "Epoch [30], val_loss: 0.0163, val_acc: 0.9972\n",
            "Epoch [31], val_loss: 0.0139, val_acc: 0.9970\n",
            "Epoch [32], val_loss: 0.0081, val_acc: 0.9974\n",
            "Epoch [33], val_loss: 0.0073, val_acc: 0.9976\n",
            "Epoch [34], val_loss: 0.0079, val_acc: 0.9983\n",
            "Epoch [35], val_loss: 0.0337, val_acc: 0.9891\n",
            "Epoch [36], val_loss: 0.0327, val_acc: 0.9941\n",
            "Epoch [37], val_loss: 0.0052, val_acc: 0.9989\n",
            "Epoch [38], val_loss: 0.0371, val_acc: 0.9880\n",
            "Epoch [39], val_loss: 0.0058, val_acc: 0.9983\n",
            "Epoch [40], val_loss: 0.0074, val_acc: 0.9983\n",
            "Epoch [41], val_loss: 0.0048, val_acc: 0.9989\n",
            "Epoch [42], val_loss: 0.0073, val_acc: 0.9985\n",
            "Epoch [43], val_loss: 0.0086, val_acc: 0.9976\n",
            "Epoch [44], val_loss: 0.0068, val_acc: 0.9985\n",
            "Epoch [45], val_loss: 0.0090, val_acc: 0.9976\n",
            "Epoch [46], val_loss: 0.0070, val_acc: 0.9974\n",
            "Epoch [47], val_loss: 0.0086, val_acc: 0.9976\n",
            "Epoch [48], val_loss: 0.0272, val_acc: 0.9944\n",
            "Epoch [49], val_loss: 0.0063, val_acc: 0.9985\n",
            "Epoch [50], val_loss: 0.0065, val_acc: 0.9980\n",
            "Epoch [51], val_loss: 0.0118, val_acc: 0.9959\n",
            "Epoch [52], val_loss: 0.0071, val_acc: 0.9987\n",
            "Epoch [53], val_loss: 0.0058, val_acc: 0.9989\n",
            "Epoch [54], val_loss: 0.0058, val_acc: 0.9985\n",
            "Epoch [55], val_loss: 0.0110, val_acc: 0.9980\n",
            "Epoch [56], val_loss: 0.2380, val_acc: 0.9759\n",
            "Epoch [57], val_loss: 0.0221, val_acc: 0.9948\n",
            "Epoch [58], val_loss: 0.0118, val_acc: 0.9974\n",
            "Epoch [59], val_loss: 2.3106, val_acc: 0.9144\n",
            "Epoch [60], val_loss: 0.0077, val_acc: 0.9972\n",
            "Epoch [61], val_loss: 0.0044, val_acc: 0.9989\n",
            "Epoch [62], val_loss: 0.0065, val_acc: 0.9983\n",
            "Epoch [63], val_loss: 0.0088, val_acc: 0.9978\n",
            "Epoch [64], val_loss: 0.0069, val_acc: 0.9978\n",
            "Epoch [65], val_loss: 0.0113, val_acc: 0.9978\n",
            "Epoch [66], val_loss: 0.0077, val_acc: 0.9985\n",
            "Epoch [67], val_loss: 0.0073, val_acc: 0.9983\n",
            "Epoch [68], val_loss: 0.0063, val_acc: 0.9985\n",
            "Epoch [69], val_loss: 0.0061, val_acc: 0.9985\n",
            "Epoch [70], val_loss: 0.0071, val_acc: 0.9980\n",
            "Epoch [71], val_loss: 0.0065, val_acc: 0.9983\n",
            "Epoch [72], val_loss: 0.0062, val_acc: 0.9985\n",
            "Epoch [73], val_loss: 0.0066, val_acc: 0.9985\n",
            "Epoch [74], val_loss: 0.0072, val_acc: 0.9980\n",
            "Epoch [75], val_loss: 0.0098, val_acc: 0.9967\n",
            "Epoch [76], val_loss: 0.0057, val_acc: 0.9987\n",
            "Epoch [77], val_loss: 0.0064, val_acc: 0.9978\n",
            "Epoch [78], val_loss: 0.0063, val_acc: 0.9983\n",
            "Epoch [79], val_loss: 0.0074, val_acc: 0.9980\n",
            "Epoch [80], val_loss: 0.0064, val_acc: 0.9983\n",
            "Epoch [81], val_loss: 0.0067, val_acc: 0.9985\n",
            "Epoch [82], val_loss: 0.0063, val_acc: 0.9985\n",
            "Epoch [83], val_loss: 0.0087, val_acc: 0.9978\n",
            "Epoch [84], val_loss: 0.0065, val_acc: 0.9985\n",
            "Epoch [85], val_loss: 0.0070, val_acc: 0.9985\n",
            "Epoch [86], val_loss: 0.0058, val_acc: 0.9985\n",
            "Epoch [87], val_loss: 0.0064, val_acc: 0.9985\n",
            "Epoch [88], val_loss: 0.0065, val_acc: 0.9983\n",
            "Epoch [89], val_loss: 0.0062, val_acc: 0.9987\n",
            "Epoch [90], val_loss: 0.0062, val_acc: 0.9985\n",
            "Epoch [91], val_loss: 0.0062, val_acc: 0.9985\n",
            "Epoch [92], val_loss: 0.0064, val_acc: 0.9985\n",
            "Epoch [93], val_loss: 0.0061, val_acc: 0.9987\n",
            "Epoch [94], val_loss: 0.0058, val_acc: 0.9987\n",
            "Epoch [95], val_loss: 0.0064, val_acc: 0.9985\n",
            "Epoch [96], val_loss: 0.0063, val_acc: 0.9985\n",
            "Epoch [97], val_loss: 0.0057, val_acc: 0.9989\n",
            "Epoch [98], val_loss: 0.0062, val_acc: 0.9985\n",
            "Epoch [99], val_loss: 0.0063, val_acc: 0.9985\n"
          ]
        }
      ],
      "source": [
        "history = fit(50, 1e-4, model, train_loader, val_loader)"
      ]
    },
    {
      "cell_type": "markdown",
      "source": [
        "Now Evaluating our model."
      ],
      "metadata": {
        "id": "s8XgFd33G9_a"
      }
    },
    {
      "cell_type": "code",
      "execution_count": null,
      "metadata": {
        "colab": {
          "base_uri": "https://localhost:8080/"
        },
        "outputId": "ffb89c84-b007-4ff5-bd6d-0463dca299a7",
        "id": "SfvEfvShGlEN"
      },
      "outputs": [
        {
          "output_type": "execute_result",
          "data": {
            "text/plain": [
              "{'val_loss': 0.006312135141342878, 'val_acc': 0.9984809160232544}"
            ]
          },
          "metadata": {},
          "execution_count": 46
        }
      ],
      "source": [
        "evaluate(model, val_loader)"
      ]
    },
    {
      "cell_type": "markdown",
      "metadata": {
        "id": "W1uYph1bTG6S"
      },
      "source": [
        "**Visualizing model performance in graph.**"
      ]
    },
    {
      "cell_type": "code",
      "execution_count": null,
      "metadata": {
        "id": "MlIbA-1D_HWK",
        "colab": {
          "base_uri": "https://localhost:8080/",
          "height": 472
        },
        "outputId": "8c796ed4-73b0-42c6-9dea-d4d42ec504d7"
      },
      "outputs": [
        {
          "output_type": "display_data",
          "data": {
            "text/plain": [
              "<Figure size 640x480 with 1 Axes>"
            ],
            "image/png": "[encoded data removed]"
          },
          "metadata": {}
        }
      ],
      "source": [
        "# Visualizing how our model performed after each epoch\n",
        "accuracies = [r['val_acc'] for r in history]\n",
        "plt.plot(accuracies, '-x')\n",
        "plt.xlabel('epoch')\n",
        "plt.ylabel('accuracy')\n",
        "plt.title('Accuracy vs. No. of epochs');"
      ]
    },
    {
      "cell_type": "markdown",
      "metadata": {
        "id": "E-LzXGZWTknq"
      },
      "source": [
        "As seen from the graph, as the amount of epochs increases, the accuracy of the model increases. However, it is worthy to note that the model was somewhat unstable as there are dips in the accuracy of the model. This could be attributed to a large learning rate."
      ]
    },
    {
      "cell_type": "markdown",
      "metadata": {
        "id": "aCDeBs2BTmRs"
      },
      "source": [
        "Trying to evaluate the model using the testing dataset."
      ]
    },
    {
      "cell_type": "code",
      "execution_count": null,
      "metadata": {
        "id": "8f03AWT1_J6j",
        "colab": {
          "base_uri": "https://localhost:8080/"
        },
        "outputId": "d30655bd-4945-4bd6-a35d-7fffe18fa11a"
      },
      "outputs": [
        {
          "output_type": "execute_result",
          "data": {
            "text/plain": [
              "{'val_loss': 11.8867826461792, 'val_acc': 0.6682291626930237}"
            ]
          },
          "metadata": {},
          "execution_count": 38
        }
      ],
      "source": [
        "# Evaluate on test dataset\n",
        "result = evaluate(model, test_loader)\n",
        "result"
      ]
    },
    {
      "cell_type": "markdown",
      "metadata": {
        "id": "RRCmlbG-U052"
      },
      "source": [
        "The accuracy of the model is aproximately 60%."
      ]
    },
    {
      "cell_type": "markdown",
      "metadata": {
        "id": "7fkw4grkVas0"
      },
      "source": [
        "**Using the Model to Predict Images**"
      ]
    },
    {
      "cell_type": "markdown",
      "metadata": {
        "id": "gWvET7tSVsrV"
      },
      "source": [
        "Now creating a helper function to pass an image to the model and return the model prediction. The code for this function is :"
      ]
    },
    {
      "cell_type": "code",
      "execution_count": null,
      "metadata": {
        "id": "JQZa1EoB_Wvi"
      },
      "outputs": [],
      "source": [
        "def predict_image(img, model):\n",
        "    xb = img.unsqueeze(0)\n",
        "    yb = model(xb)\n",
        "    _, preds  = torch.max(yb, dim=1)\n",
        "    return preds[0].item()"
      ]
    },
    {
      "cell_type": "markdown",
      "metadata": {
        "id": "l8wqZUWFWB_R"
      },
      "source": [
        "Running the function."
      ]
    },
    {
      "cell_type": "code",
      "execution_count": null,
      "metadata": {
        "id": "qKDM6tndBc8k",
        "colab": {
          "base_uri": "https://localhost:8080/",
          "height": 447
        },
        "outputId": "65f1299c-c64b-4a50-89e9-3dee948fd05b"
      },
      "outputs": [
        {
          "output_type": "stream",
          "name": "stdout",
          "text": [
            "Label: E , Predicted: E\n"
          ]
        },
        {
          "output_type": "display_data",
          "data": {
            "text/plain": [
              "<Figure size 640x480 with 1 Axes>"
            ],
            "image/png": "[encoded data removed]"
          },
          "metadata": {}
        }
      ],
      "source": [
        "img, label = testdataset[465]\n",
        "plt.imshow(img.reshape(28,28), cmap='gray')\n",
        "print('Label:', letters[label.item()], ', Predicted:', letters[predict_image(img, model)])"
      ]
    },
    {
      "cell_type": "markdown",
      "metadata": {
        "id": "853hS6oRWRDc"
      },
      "source": [
        "In this example, the model correctly predicts the letter portrayed by the hand image. Let’s try another one."
      ]
    },
    {
      "cell_type": "code",
      "execution_count": null,
      "metadata": {
        "id": "NP2hEUCfBfWx",
        "colab": {
          "base_uri": "https://localhost:8080/",
          "height": 447
        },
        "outputId": "1414727f-684f-4573-dc0a-a4636c47afa5"
      },
      "outputs": [
        {
          "output_type": "stream",
          "name": "stdout",
          "text": [
            "Label: G , Predicted: G\n"
          ]
        },
        {
          "output_type": "display_data",
          "data": {
            "text/plain": [
              "<Figure size 640x480 with 1 Axes>"
            ],
            "image/png": "[encoded data removed]"
          },
          "metadata": {}
        }
      ],
      "source": [
        "img, label = testdataset[600]\n",
        "plt.imshow(img.reshape(28,28), cmap='gray')\n",
        "print('Label:', letters[label.item()], ', Predicted:', letters[predict_image(img, model)])"
      ]
    },
    {
      "cell_type": "markdown",
      "metadata": {
        "id": "84fguFtrWzYt"
      },
      "source": [
        "**Saving the Model**"
      ]
    },
    {
      "cell_type": "code",
      "execution_count": null,
      "metadata": {
        "id": "YViy4CthB2OJ"
      },
      "outputs": [],
      "source": [
        "# Here the model parameters are saved so that we dont have to train the model next time\n",
        "torch.save(model.state_dict(), 'mnist-logistic.pth')"
      ]
    },
    {
      "cell_type": "code",
      "execution_count": null,
      "metadata": {
        "id": "gE6xfcgMCBHE",
        "colab": {
          "base_uri": "https://localhost:8080/"
        },
        "outputId": "4ab33277-d1a6-4d01-a299-304aee994331"
      },
      "outputs": [
        {
          "output_type": "execute_result",
          "data": {
            "text/plain": [
              "OrderedDict([('linear.weight',\n",
              "              tensor([[ 0.0567, -0.0111,  0.0342,  ..., -0.0154, -0.0387, -0.0030],\n",
              "                      [ 0.0079, -0.0015, -0.0150,  ..., -0.0081, -0.0321, -0.0175],\n",
              "                      [-0.0169,  0.0279, -0.0076,  ...,  0.0116,  0.0381,  0.0308],\n",
              "                      ...,\n",
              "                      [ 0.0192, -0.0166, -0.0184,  ..., -0.0310,  0.0254,  0.0402],\n",
              "                      [-0.0025,  0.0321, -0.0119,  ...,  0.0177, -0.0175, -0.0403],\n",
              "                      [ 0.0247,  0.0134,  0.0075,  ..., -0.0049,  0.0178, -0.0045]])),\n",
              "             ('linear.bias',\n",
              "              tensor([ 0.0192,  0.0183, -0.0163, -0.0064,  0.0157, -0.0164, -0.0299,  0.0166,\n",
              "                       0.0195, -0.0097,  0.0124, -0.0105,  0.0241,  0.0074, -0.0175,  0.0066,\n",
              "                       0.0207,  0.0335,  0.0189,  0.0172, -0.0284, -0.0310,  0.0252,  0.0255,\n",
              "                      -0.0097, -0.0102]))])"
            ]
          },
          "metadata": {},
          "execution_count": 48
        }
      ],
      "source": [
        "# Let's look at the model parameters\n",
        "model.state_dict()"
      ]
    },
    {
      "cell_type": "markdown",
      "metadata": {
        "id": "y6YsJQRwXF9j"
      },
      "source": [
        "**Conclusion**"
      ]
    },
    {
      "cell_type": "markdown",
      "metadata": {
        "id": "Zp_BdmgTXO1C"
      },
      "source": [
        "Logistic regression was used to construct the model with accuracy aproximately 60-70%. From the trend of the performance of the model, increasing the number of training epochs also increases the training accuracy of the model. However, the training accuracy of the model will somewhat plateau at about 80–99%."
      ]
    },
    {
      "cell_type": "markdown",
      "metadata": {
        "id": "yP4tM2EnXYXc"
      },
      "source": [
        "This may be the limitation of constructing the model using just logistic regression. Other more sophisticated models could result to a higher accuracy."
      ]
    }
  ],
  "metadata": {
    "colab": {
      "provenance": [],
      "include_colab_link": true
    },
    "kernelspec": {
      "display_name": "Python 3 (ipykernel)",
      "language": "python",
      "name": "python3"
    },
    "language_info": {
      "codemirror_mode": {
        "name": "ipython",
        "version": 3
      },
      "file_extension": ".py",
      "mimetype": "text/x-python",
      "name": "python",
      "nbconvert_exporter": "python",
      "pygments_lexer": "ipython3",
      "version": "3.9.13"
    }
  },
  "nbformat": 4,
  "nbformat_minor": 0
}